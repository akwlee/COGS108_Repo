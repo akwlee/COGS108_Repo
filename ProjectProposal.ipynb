{
 "cells": [
  {
   "cell_type": "markdown",
   "metadata": {},
   "source": [
    "# COGS 108 - Project Proposal"
   ]
  },
  {
   "cell_type": "markdown",
   "metadata": {},
   "source": [
    "## Important\n",
    "\n",
    "- Make sure all group members (3-5 people) are listed in the group members section.\n",
    "- ONE, and only one, member of your group should upload this notebook to TritonED. \n",
    "- Each member of the group will receive the same grade on this assignment. \n",
    "- Keep the file name the same: submit the file 'ProjectProposal.ipynb'"
   ]
  },
  {
   "cell_type": "markdown",
   "metadata": {},
   "source": [
    "## Overview"
   ]
  },
  {
   "cell_type": "markdown",
   "metadata": {},
   "source": [
    "Read the project description and detailed instructions for this assignment in the 'ProjectOutline' document."
   ]
  },
  {
   "cell_type": "markdown",
   "metadata": {},
   "source": [
    "## Group Members: Fill in the Student IDs of each group member here\n",
    "\n",
    "Replace the lines below to list each persons full student ID. Add lines as needed for your group size, and make sure each ID is listed on a separate line. \n",
    "\n",
    "- A11701297\n",
    "- A13437410\n",
    "- A13485887\n",
    "- A13868208\n",
    "- A09553590"
   ]
  },
  {
   "cell_type": "markdown",
   "metadata": {},
   "source": [
    "### Research Question\n",
    "\n",
    "What is your research question? (1-2 sentences)"
   ]
  },
  {
   "cell_type": "markdown",
   "metadata": {},
   "source": [
    "What is the most dominant factor in determining the success of a restaurant?"
   ]
  },
  {
   "cell_type": "markdown",
   "metadata": {},
   "source": [
    "### Hypothesis\n",
    "\n",
    "What is your main hypothesis and predictions? (2-3 sentences)"
   ]
  },
  {
   "cell_type": "markdown",
   "metadata": {},
   "source": [
    "A restaurant located downtown would attract more guests. A restaurant with good communication with the guests would be more highly rated. Fine dining would probably be rated more highly than the average diner."
   ]
  },
  {
   "cell_type": "markdown",
   "metadata": {},
   "source": [
    "### Dataset(s)\n",
    "\n",
    "What data will you use to answer your question? Describe the dataset(s) in terms of number of observations, what kind of features it contains, etc. You must use at least one dataset containing at least approximately 1000 observations (if your data are smaller but you feel they are sufficient, email Prof. Voytek). You are welcome (and in fact recommended) to find multiple datasets! If you do so, describe each one, and briefly explain how you will combine them together. "
   ]
  },
  {
   "cell_type": "markdown",
   "metadata": {},
   "source": [
    "*Fill in your dataset information here*\n",
    "\n",
    "(Copy this information for each dataset)\n",
    "- Dataset Name: Yelp Dataset\n",
    "- Link to the dataset: https://www.kaggle.com/yelp-dataset/yelp-dataset/data\n",
    "- Number of observations: 5,200,000 user reviews, Information on 174,000 businesses, the data spans 11 metropolitan areas\n",
    "\n",
    "1-2 sentences describing the dataset. \n",
    "\n",
    "This is a large yelp dataset of businesses, their location, hours of operation, yelp reviews, tips, etc.\n",
    "\n",
    "\n",
    "If you plan to use multiple datasets, add 1-2 sentences about how you plan to combine these datasets."
   ]
  },
  {
   "cell_type": "markdown",
   "metadata": {},
   "source": [
    "### Background and Prior Work\n",
    "\n",
    "Why is this question of interest, what background information led you to your hypothesis, and why is this important?\n",
    "\n",
    "Find some relevant prior work, and reference those sources. Even if you think you have a totally novel question, find the most similar prior work that you can and discuss how it relates to your project. \n",
    "\n",
    "References can be research publications, but they need not be. Blogs, github repositories, company websites, etc., are all viable references if they are relevant to your project.\n",
    "\n",
    "(2-3 paragraphs, including at least 2 references)"
   ]
  },
  {
   "cell_type": "markdown",
   "metadata": {},
   "source": [
    "*Fill in your background and prior work here* \n",
    "\n",
    "This question is relevant because it pertains to the level of a business’s success in terms of where it is located, how long it is open, and other characteristics which combined can affect how popular it is. It is of interest because we want to create the “best” possible restaurant based on the data that we find, which is important from a business standpoint.\n",
    "\n",
    "\n",
    "A related piece of work is a Kaggle competition where users had to predict a restaurant’s revenue. This is slightly similar to what we will attempt to do, where in that scenario they analysed data about restaurant location, its hours, etc, and then based on their analysis predicted how successful the restaurant would be. This relates to our project in that we too will look at similar factors, and then see how they relate to create the most successful business, which, depending on your point of view, may be the level of its revenue.\n",
    "\n",
    "\n",
    "References (include links):\n",
    "- 1) https://github.com/bensolucky/TFI/blob/master/train.ipynb\n",
    "- 2) https://github.com/WesleyyC/Restaurant-Revenue-Prediction"
   ]
  },
  {
   "cell_type": "markdown",
   "metadata": {},
   "source": [
    "### Proposed Methods\n",
    "\n",
    "What methods will you use to analyze your data?\n",
    "\n",
    "- How 'clean' is the data? To the extent that it requires cleaning, how will you do so?\n",
    "- How will you analyze the data? Be as specific as you can. Briefly mention any pre-processing steps that are required for your methods (for example, checking data distributions and performing any transformations that may be required). Include a brief outline of how you will apply your chosen method(s). \n",
    "- What do you plan to report? Briefly mention any key visualizations you plan to create, and/or the kind of results you will be able to report that address your question (this could be, for example, the outcome of some statistical test(s), prediction error on a model, a model fit parameter, etc.).\n",
    "- Include a list of packages you expect to use for you project. If you plan to use packages we have not used in class, add a very brief description about them (a few words is sufficient). "
   ]
  },
  {
   "cell_type": "markdown",
   "metadata": {},
   "source": [
    "*Fill in your proposed methods information here:*\n",
    "\n",
    "*Data Cleaning (2-3 sentences)*\n",
    "\n",
    "In general the data we are looking at is already well organized. What we’ll need to do is decide what we specifically want to compare and then merge datasets as needed. For example we might decide that whether or not the business had insurance is irrelevant to our general question and thus leave it out. The data also contains all types of businesses as opposed to just restaurants, so if we do decide to narrow our focus to restaurants, we will have to filter out all other types of businesses.\n",
    "\n",
    "\n",
    "*Data Analysis (1-2 paragraphs)*\n",
    "\n",
    "We will visualize the data, getting the distribution and trends from our datasets. We may use methods of data wrangling and data visualization from the past assignments. We will potentially filter through comments to see the most commonly used words or phrases used to describe top tier restaurants.\n",
    "\n",
    "\n",
    "*What to report (2-3 sentences)*\n",
    "\n",
    "We would report what factors contribute to creating a successful restaurant/business. Using the processed data, we hope to be able to narrow down the key components of top tier restaurants and use those components to create our fictitious restaurant.\n",
    "\n",
    "\n",
    "Packages we plan to use:\n",
    "- Numpy\n",
    "- Pandas\n",
    "- Bokeh - For mapping Geo Data overlayed onto Google Maps for restaurant location"
   ]
  },
  {
   "cell_type": "markdown",
   "metadata": {},
   "source": [
    "### Ethics and Privacy\n",
    "\n",
    "Briefly acknowledge and address any potential issues of ethics and privacy for the proposed project. In particular:\n",
    "- Do you have permission to use this data, for this purpose?\n",
    "- Are there privacy concerns regarding your datasets that you need to deal with, and/or terms of use that you need to comply with?\n",
    "- Are there potential biases in your dataset(s), in terms of who it composes, and how it was collected, that may be problematic in terms of it allowing for equitable analysis? (For example, does your data exclude particular populations, or is it likely to reflect particular human biases in a way that could be a problem?) \n",
    "- Are there any other issues related to your topic area, data, and/or analyses that are potentially problematic in terms of data privacy and equitable impact?\n",
    "- How will you handle any issues you identify?\n",
    "\n",
    "(1-2 paragraphs)\n",
    "\n",
    "The data we are using come from Kaggle.com which is a platform used by statisticians and data miners for predictive modeling and analytics competitions. The dataset is public and anyone with access to the website is able to use it. There should not be any biases since the dataset was not created by anyone who was a part of the data (in this case a part of any restaurant or other yelp businesses). Since we are researching data about restaurants which already have their information public, there should not be much concerns about privacy violations in the dataset we are using.  \n"
   ]
  },
  {
   "cell_type": "markdown",
   "metadata": {},
   "source": [
    "### Discussion\n",
    "\n",
    "Discuss your project, looking forward to what your results might mean, how they fit it in with what is already known, and what problems you may encounter. \n",
    "\n",
    "In particular:\n",
    "- If your analyses and hypotheses are correct, what will be the contribution of this project to the topic domain? \n",
    "- Alternatively, what will you do if you methods don't work and/or your hypotheses are wrong? \n",
    "- What are the potential pitfalls and potential confounds of your data and/or methods that may cause problems, and/or influence your interpretations?\n",
    "\n",
    "(2-3 paragraphs)"
   ]
  },
  {
   "cell_type": "markdown",
   "metadata": {},
   "source": [
    "*Fill in your discussion information here*\n",
    "\n",
    "Our goal for this project is to find the important factors that determine how successful a restaurant can be. Such factors include the location, food genre, decorations, opening hours and other features. If our analyses are correct, the results will show a variety of features a restaurant should have to receive the best ratings, and they can be considered and tried to be reached when opening a new restaurant. \n",
    "Our predictions for the determining features are general, including common ideas such as location with a dense population. If our finding says differently, it will be interesting to see what some factors that could determine a success of a restaurant that are not usually considered by the general public. \n",
    "\n"
   ]
  }
 ],
 "metadata": {
  "kernelspec": {
   "display_name": "Python 3",
   "language": "python",
   "name": "python3"
  },
  "language_info": {
   "codemirror_mode": {
    "name": "ipython",
    "version": 3
   },
   "file_extension": ".py",
   "mimetype": "text/x-python",
   "name": "python",
   "nbconvert_exporter": "python",
   "pygments_lexer": "ipython3",
   "version": "3.6.3"
  }
 },
 "nbformat": 4,
 "nbformat_minor": 2
}
